{
 "cells": [
  {
   "cell_type": "code",
   "execution_count": 1,
   "metadata": {},
   "outputs": [],
   "source": [
    "###################################################################################################\n",
    "#\n",
    "# Copyright (C) 2022 Maxim Integrated Products, Inc. All Rights Reserved.\n",
    "#\n",
    "# Maxim Integrated Products, Inc. Default Copyright Notice:\n",
    "# https://www.maximintegrated.com/en/aboutus/legal/copyrights.html\n",
    "#\n",
    "###################################################################################################\n",
    "\n",
    "## IMPORTS\n",
    "import os\n",
    "import sys\n",
    "import datetime\n",
    "import time\n",
    "\n",
    "import importlib\n",
    "import numpy as np\n",
    "import pandas as pd\n",
    "import torch\n",
    "import torch.nn.functional as F\n",
    "import matplotlib.pyplot as plt\n",
    "\n",
    "from torch import nn\n",
    "from pathlib import Path\n",
    "from collections import OrderedDict\n",
    "\n",
    "import distiller\n",
    "\n",
    "## FOR TENSOR BOARD\n",
    "try:\n",
    "    import tensorboard  # pylint: disable=import-error\n",
    "    import tensorflow  # pylint: disable=import-error\n",
    "    tensorflow.io.gfile = tensorboard.compat.tensorflow_stub.io.gfile\n",
    "except (ModuleNotFoundError, AttributeError):\n",
    "    pass\n",
    "\n",
    "import torchnet.meter as tnt\n",
    "import torch.optim as optim\n",
    "from torch.utils.data import DataLoader\n",
    "from torchvision import transforms\n",
    "import distiller.apputils as apputils\n",
    "from distiller.data_loggers import PythonLogger, TensorBoardLogger\n",
    "\n",
    "## PATH FOR MODELS AND DATASET\n",
    "sys.path.append(os.path.dirname(os.getcwd()))\n",
    "sys.path.append(os.path.join(os.path.dirname(os.getcwd()), 'models'))\n",
    "sys.path.append(os.path.join(os.path.dirname(os.getcwd()), 'datasets'))\n",
    "\n",
    "from unetnilm.metrics import get_results_summary, example_f1_score\n",
    "from datasets import nilm\n",
    "import ai8x\n",
    "mod = importlib.import_module(\"ai87net-unetnilm\")\n",
    "\n",
    "%matplotlib inline\n",
    "\n",
    "msglogger = None"
   ]
  },
  {
   "cell_type": "code",
   "execution_count": 2,
   "metadata": {},
   "outputs": [],
   "source": [
    "dataset_fn = nilm.ukdale_get_datasets\n",
    "data_path = \"../data/NILM/\"\n",
    "batch_size = 8\n",
    "workers = 5\n",
    "validation_split = 0.1\n",
    "deterministic = True\n",
    "dataset_name = \"ukdale\"\n",
    "appliance_data = {\n",
    "    \"fridge freezer\": {\n",
    "        \"window\": 50,\n",
    "        \"min\": 0.0,\n",
    "        \"max\": 255.0,\n",
    "        \"on_power_threshold\": 50\n",
    "    },\n",
    "    \"washer dryer\": {\n",
    "        \"window\": 50,\n",
    "        \"min\": 0.0,\n",
    "        \"max\": 2044.0,\n",
    "        \"on_power_threshold\": 20\n",
    "    },\n",
    "    \"kettle\": {\n",
    "        \"window\": 50,\n",
    "        \"min\": 0.0,\n",
    "        \"max\": 2361.0,\n",
    "        \"on_power_threshold\": 10\n",
    "    },\n",
    "    \"dish washer\": {\n",
    "        \"window\": 10,\n",
    "        \"min\": 0.0,\n",
    "        \"max\": 2411.0,\n",
    "        \"on_power_threshold\": 10\n",
    "    },\n",
    "    \"microwave\": {\n",
    "        \"window\": 50,\n",
    "        \"min\": 0.0,\n",
    "        \"max\": 1547.0,\n",
    "        \"on_power_threshold\": 200\n",
    "    }\n",
    "}\n",
    "appliances = list(appliance_data.keys())\n",
    "\n",
    "## Variable Declaration for MSG Logger\n",
    "log_prefix = \"ukdale-train\"\n",
    "log_dir = \"../logs/\"\n",
    "dataset_name = \"ukdale\"\n",
    "num_classes = 5\n",
    "model_name = \"cnn1dnilm\"\n",
    "seq_len = 100\n",
    "lr = 1e-4\n",
    "\n",
    "## Variable Declaration for Model\n",
    "quantiles = [0.0025,0.1, 0.5, 0.9, 0.975]"
   ]
  },
  {
   "cell_type": "code",
   "execution_count": 3,
   "metadata": {},
   "outputs": [],
   "source": [
    "class Args:\n",
    "        def __init__(self, act_mode_8bit):\n",
    "                self.act_mode_8bit = act_mode_8bit\n",
    "                self.truncate_testset = False\n",
    "\n",
    "def count_params(model):\n",
    "    model_parameters = filter(lambda p: p.requires_grad, model.parameters())\n",
    "    params = sum([np.prod(p.size()) for p in model_parameters])\n",
    "    return params"
   ]
  },
  {
   "cell_type": "code",
   "execution_count": 4,
   "metadata": {},
   "outputs": [
    {
     "name": "stdout",
     "output_type": "stream",
     "text": [
      "0\n"
     ]
    }
   ],
   "source": [
    "args = Args(act_mode_8bit=False)\n",
    "train_set, test_set, val_set = dataset_fn((data_path, args), load_train=True, load_test=True, load_val=True)\n",
    "train_set.visualize_batch()"
   ]
  },
  {
   "cell_type": "code",
   "execution_count": 6,
   "metadata": {},
   "outputs": [],
   "source": [
    "train_loader, val_loader, test_loader, _ = apputils.get_data_loaders(\n",
    "        dataset_fn, (data_path,args), batch_size,\n",
    "        workers, validation_split, deterministic,1, 1, 1)"
   ]
  },
  {
   "cell_type": "code",
   "execution_count": 7,
   "metadata": {},
   "outputs": [],
   "source": [
    "batch_size = 128\n",
    "num_workers = 5\n",
    "\n",
    "train_dataloader = torch.utils.data.DataLoader(train_set, batch_size=batch_size, shuffle=False, pin_memory=True, num_workers=num_workers)\n",
    "test_dataloader = torch.utils.data.DataLoader(test_set, batch_size=batch_size, shuffle=False, pin_memory=True, num_workers=num_workers)\n",
    "val_dataloader = torch.utils.data.DataLoader(val_set, batch_size=batch_size, shuffle=False, pin_memory=True, num_workers=num_workers)\n"
   ]
  },
  {
   "cell_type": "code",
   "execution_count": 8,
   "metadata": {},
   "outputs": [],
   "source": [
    "index =365\n",
    "data = val_set[index]\n",
    "input_data = data[0]\n",
    "target_data = data[1]\n",
    "state_data = data[2]"
   ]
  },
  {
   "cell_type": "code",
   "execution_count": null,
   "metadata": {},
   "outputs": [],
   "source": []
  }
 ],
 "metadata": {
  "kernelspec": {
   "display_name": "venv",
   "language": "python",
   "name": "python3"
  },
  "language_info": {
   "codemirror_mode": {
    "name": "ipython",
    "version": 3
   },
   "file_extension": ".py",
   "mimetype": "text/x-python",
   "name": "python",
   "nbconvert_exporter": "python",
   "pygments_lexer": "ipython3",
   "version": "3.8.10"
  },
  "orig_nbformat": 4
 },
 "nbformat": 4,
 "nbformat_minor": 2
}
