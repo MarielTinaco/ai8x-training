{
 "cells": [
  {
   "cell_type": "code",
   "execution_count": 16,
   "metadata": {},
   "outputs": [],
   "source": [
    "import torch\n",
    "from torch import nn\n",
    "import torch.nn.functional as F\n",
    "from pathlib import Path\n",
    "\n",
    "import os\n",
    "import sys\n",
    "\n",
    "import numpy as np\n",
    "import torch\n",
    "\n",
    "sys.path.append(os.path.dirname(os.getcwd()))\n",
    "sys.path.append(os.path.join(os.path.dirname(os.getcwd()), 'models'))\n",
    "\n",
    "import ai8x\n",
    "from datasets import nilm"
   ]
  },
  {
   "cell_type": "code",
   "execution_count": 17,
   "metadata": {},
   "outputs": [],
   "source": [
    "data_path = Path('../data/NILM')\n",
    "args = None\n",
    "# data_path.exists()\n",
    "\n",
    "train_set, test_set = nilm.ukdale_get_datasets((data_path, args), load_train=True, load_test=True)"
   ]
  },
  {
   "cell_type": "code",
   "execution_count": 376,
   "metadata": {},
   "outputs": [],
   "source": [
    "batch_size = 32\n",
    "num_workers = 5\n",
    "\n",
    "dataloader = torch.utils.data.DataLoader(train_set, batch_size=batch_size, shuffle=False, pin_memory=True, num_workers=num_workers)\n",
    "\n",
    "batch_select = None\n",
    "for batch_idx, batch in enumerate(dataloader):\n",
    "    if batch_idx == 0:\n",
    "        batch_select = batch\n",
    "        break"
   ]
  },
  {
   "cell_type": "code",
   "execution_count": 377,
   "metadata": {},
   "outputs": [
    {
     "name": "stdout",
     "output_type": "stream",
     "text": [
      "Running on device: cuda:0\n"
     ]
    }
   ],
   "source": [
    "device = torch.device('cuda:0' if torch.cuda.is_available() else 'cpu')\n",
    "print('Running on device: {}'.format(device))"
   ]
  },
  {
   "cell_type": "code",
   "execution_count": 378,
   "metadata": {},
   "outputs": [
    {
     "name": "stdout",
     "output_type": "stream",
     "text": [
      "Configuring device: MAX78000, simulate=False.\n"
     ]
    }
   ],
   "source": [
    "ai8x.set_device(device=85, simulate=False, round_avg=False)"
   ]
  },
  {
   "cell_type": "code",
   "execution_count": 379,
   "metadata": {},
   "outputs": [],
   "source": [
    "quantiles = [0.0025,0.1, 0.5, 0.9, 0.975]"
   ]
  },
  {
   "cell_type": "code",
   "execution_count": 434,
   "metadata": {},
   "outputs": [],
   "source": [
    "class Conv1D(nn.Module):\n",
    "    \n",
    "    def __init__(self,\n",
    "                 num_channels,\n",
    "                 num_kernels,\n",
    "                 kernel_size=3,\n",
    "                 stride=1,\n",
    "                 padding=1,\n",
    "                 last=False,\n",
    "                 activation=\"ReLU\",\n",
    "                 batchnorm=\"NoAffine\",\n",
    "                 device=\"cuda:0\",\n",
    "                 **kwargs):\n",
    "        super(Conv1D, self).__init__()\n",
    "        \n",
    "        if not last:\n",
    "            if activation == \"ReLU\":\n",
    "                self.net = ai8x.FusedConv1dBNReLU(in_channels=num_channels,\n",
    "                                                  out_channels=num_kernels,\n",
    "                                                  kernel_size=kernel_size,\n",
    "                                                  stride=stride,\n",
    "                                                  padding=padding,\n",
    "                                                  bias=True,\n",
    "                                                  batchnorm=\"NoAffine\",\n",
    "                                                  **kwargs)\n",
    "            elif activation == \"Abs\":\n",
    "                self.net = ai8x.FusedConv1dBNAbs(in_channels=num_channels,\n",
    "                                                  out_channels=num_kernels,\n",
    "                                                  kernel_size=kernel_size,\n",
    "                                                  stride=stride,\n",
    "                                                  padding=padding,\n",
    "                                                  bias=True,\n",
    "                                                  batchnorm=\"NoAffine\",\n",
    "                                                  **kwargs)\n",
    "            else:\n",
    "                self.net = ai8x.Conv1d(\n",
    "                    in_channels=num_channels,\n",
    "                    out_channels=num_kernels,\n",
    "                    kernel_size=kernel_size,\n",
    "                    stride=stride,\n",
    "                    padding=padding,\n",
    "                    batchnorm=batchnorm,\n",
    "                    **kwargs\n",
    "                )\n",
    "        else:\n",
    "            self.net = ai8x.Conv1d(\n",
    "                in_channels=num_channels,\n",
    "                out_channels=num_kernels,\n",
    "                kernel_size=kernel_size,\n",
    "                stride=stride,\n",
    "                padding=padding,\n",
    "                batchnorm=batchnorm,\n",
    "                **kwargs\n",
    "            )\n",
    "        nn.utils.weight_norm(self.net.op.to(device))    \n",
    "        nn.init.xavier_uniform_(self.net.op.weight)\n",
    "        \n",
    "    def forward(self, x):\n",
    "        return self.net(x)\n",
    "\n",
    "class Encoder(nn.Module):\n",
    "    def __init__(self, \n",
    "                 n_channels=10, \n",
    "                 n_kernels=16, \n",
    "                 n_layers=3, \n",
    "                 seq_size=50,\n",
    "                 device=\"cuda:0\"):\n",
    "        super(Encoder, self).__init__()\n",
    "        self.feat_size = (seq_size-1) // 2**n_layers +1\n",
    "        self.feat_dim = self.feat_size * n_kernels\n",
    "        self.conv_stack = nn.Sequential(\n",
    "            *([Conv1D(n_channels, n_kernels // 2**(n_layers-1), activation=\"ReLU\", last=False, device=device)] +\n",
    "              [Conv1D(n_kernels//2**(n_layers-l),\n",
    "                         n_kernels//2**(n_layers-l-1), activation=\"ReLU\", last=False, device=device)\n",
    "               for l in range(1, n_layers-1)] +\n",
    "              [Conv1D(n_kernels // 2, n_kernels, activation=\"ReLU\", last=False, device=device)])\n",
    "        )\n",
    "    def forward(self, x):\n",
    "        assert len(x.size())==3\n",
    "        feats = self.conv_stack(x)\n",
    "        return feats\n",
    "\n",
    "class MLPLayer(nn.Module):\n",
    "    def __init__(self, in_size, \n",
    "                 hidden_arch=[128/2, 512/2, 1024/2], \n",
    "                 output_size=None):\n",
    "        \n",
    "        super(MLPLayer, self).__init__()\n",
    "        self.in_size = in_size\n",
    "        self.output_size = output_size\n",
    "        layer_sizes = [in_size] + [x for x in hidden_arch]\n",
    "        self.layers = []\n",
    "        \n",
    "        for i in range(len(layer_sizes)-1):\n",
    "            layer = ai8x.FusedLinearReLU(layer_sizes[i], layer_sizes[i+1])\n",
    "            self.layers.append(layer)\n",
    "           \n",
    "        if output_size is not None:\n",
    "            layer = ai8x.FusedLinearReLU(layer_sizes[-1], output_size)\n",
    "            self.layers.append(layer)\n",
    "            \n",
    "        self.init_weights()\n",
    "        self.mlp_network =  nn.Sequential(*self.layers)\n",
    "        \n",
    "    def forward(self, z):\n",
    "        return self.mlp_network(z)\n",
    "        \n",
    "    def init_weights(self):\n",
    "        for layer in self.layers:\n",
    "            try:\n",
    "                if isinstance(layer, ai8x.FusedLinearReLU):\n",
    "                    nn.utils.weight_norm(layer)\n",
    "                    nn.init.xavier_uniform_(layer.weight)\n",
    "            except: pass\n",
    "            \n",
    "\n",
    "class AI85CNN1DNiLM(nn.Module):\n",
    "    def __init__(self, in_size=1, \n",
    "                 output_size=5,\n",
    "                 d_model=64,\n",
    "                 dropout=0.1, \n",
    "                 seq_len=9,  \n",
    "                 n_layers=5, \n",
    "                 n_quantiles=3, \n",
    "                 pool_filter=16,\n",
    "                 device=\"cuda:0\"):\n",
    "        super(AI85CNN1DNiLM, self).__init__()\n",
    "\n",
    "        self.dropout = nn.Dropout(dropout)\n",
    "        self.enc_net = Encoder(n_channels=in_size, n_kernels=d_model, n_layers=n_layers, seq_size=seq_len, device=device)\n",
    "        self.pool_filter = pool_filter\n",
    "        self.mlp_layer = MLPLayer(in_size=d_model*pool_filter, hidden_arch=[1024], output_size=None)\n",
    "        self.n_quantiles = n_quantiles\n",
    "        \n",
    "        self.fc_out_state  = ai8x.FusedLinearReLU(1024, output_size*2, bias=True)\n",
    "        self.fc_out_power  = ai8x.FusedLinearReLU(1024, output_size*n_quantiles, bias=True)\n",
    "        nn.init.xavier_normal_(self.fc_out_state.op.weight)\n",
    "        nn.init.xavier_normal_(self.fc_out_power.op.weight)\n",
    "        \n",
    "\n",
    "    def forward(self, x):\n",
    "        x = x.permute(0,2,1)\n",
    "        B = x.size(0)\n",
    "        conv_out = self.dropout(self.enc_net(x))\n",
    "        conv_out = F.adaptive_avg_pool1d(conv_out, self.pool_filter)\n",
    "        conv_out = conv_out.reshape(x.size(0), -1)\n",
    "        mlp_out  = self.dropout(self.mlp_layer(conv_out))\n",
    "        states_logits   = self.fc_out_state(mlp_out).reshape(B, 2, -1)\n",
    "        power_logits    = self.fc_out_power(mlp_out)\n",
    "        if self.n_quantiles>1:\n",
    "            power_logits = power_logits.reshape(B, self.n_quantiles, -1)\n",
    "            \n",
    "        return states_logits, power_logits\n"
   ]
  },
  {
   "cell_type": "code",
   "execution_count": 435,
   "metadata": {},
   "outputs": [],
   "source": [
    "model = AI85CNN1DNiLM(in_size=1, output_size=5, dropout=0.4, n_quantiles=len(quantiles), device=device, pool_filter=16)\n",
    "model = model.to(device)"
   ]
  },
  {
   "cell_type": "code",
   "execution_count": 436,
   "metadata": {},
   "outputs": [],
   "source": [
    "states, target = model(batch_select[0].to(device))"
   ]
  }
 ],
 "metadata": {
  "kernelspec": {
   "display_name": "venv",
   "language": "python",
   "name": "python3"
  },
  "language_info": {
   "codemirror_mode": {
    "name": "ipython",
    "version": 3
   },
   "file_extension": ".py",
   "mimetype": "text/x-python",
   "name": "python",
   "nbconvert_exporter": "python",
   "pygments_lexer": "ipython3",
   "version": "3.8.10"
  },
  "orig_nbformat": 4
 },
 "nbformat": 4,
 "nbformat_minor": 2
}
