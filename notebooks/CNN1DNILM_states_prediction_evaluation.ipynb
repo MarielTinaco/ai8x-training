{
 "cells": [
  {
   "cell_type": "code",
   "execution_count": 4,
   "metadata": {},
   "outputs": [],
   "source": [
    "###################################################################################################\n",
    "#\n",
    "# Copyright (C) 2022 Maxim Integrated Products, Inc. All Rights Reserved.\n",
    "#\n",
    "# Maxim Integrated Products, Inc. Default Copyright Notice:\n",
    "# https://www.maximintegrated.com/en/aboutus/legal/copyrights.html\n",
    "#\n",
    "###################################################################################################\n",
    "\n",
    "## IMPORTS\n",
    "import os\n",
    "import sys\n",
    "import datetime\n",
    "import time\n",
    "\n",
    "import importlib\n",
    "import numpy as np\n",
    "import pandas as pd\n",
    "import torch\n",
    "import torch.nn.functional as F\n",
    "import matplotlib.pyplot as plt\n",
    "\n",
    "from torch import nn\n",
    "from pathlib import Path\n",
    "from collections import OrderedDict\n",
    "\n",
    "import distiller\n",
    "\n",
    "## FOR TENSOR BOARD\n",
    "try:\n",
    "    import tensorboard  # pylint: disable=import-error\n",
    "    import tensorflow  # pylint: disable=import-error\n",
    "    tensorflow.io.gfile = tensorboard.compat.tensorflow_stub.io.gfile\n",
    "except (ModuleNotFoundError, AttributeError):\n",
    "    pass\n",
    "\n",
    "import torchnet.meter as tnt\n",
    "import torch.optim as optim\n",
    "from torch.utils.data import DataLoader\n",
    "from torchvision import transforms\n",
    "import distiller.apputils as apputils\n",
    "from distiller.data_loggers import PythonLogger, TensorBoardLogger\n",
    "\n",
    "## PATH FOR MODELS AND DATASET\n",
    "sys.path.append(os.path.dirname(os.getcwd()))\n",
    "sys.path.append(os.path.join(os.path.dirname(os.getcwd()), 'models'))\n",
    "sys.path.append(os.path.join(os.path.dirname(os.getcwd()), 'datasets'))\n",
    "\n",
    "from unetnilm.metrics import get_results_summary, example_f1_score\n",
    "from datasets import nilm2\n",
    "import ai8x\n",
    "mod = importlib.import_module(\"ai85net-nilm\")\n",
    "\n",
    "%matplotlib inline\n",
    "\n",
    "msglogger = None"
   ]
  },
  {
   "cell_type": "code",
   "execution_count": 5,
   "metadata": {},
   "outputs": [],
   "source": [
    "class Args:\n",
    "    def __init__(self, act_mode_8bit):\n",
    "        self.act_mode_8bit = act_mode_8bit\n",
    "        self.truncate_testset = False"
   ]
  },
  {
   "cell_type": "code",
   "execution_count": 7,
   "metadata": {},
   "outputs": [],
   "source": [
    "data_dir = \"../data\"\n",
    "classes =  ['fridge', 'washer dryer', 'kettle', 'dish washer', 'microwave']\n",
    "args = Args(act_mode_8bit=True)\n",
    "transform = transforms.Compose([\n",
    "                        ai8x.normalize(args=args)\n",
    "        ])\n",
    "\n",
    "dataset = nilm2.NILM(root=data_dir,\n",
    "                     classes=classes,\n",
    "                     d_type='train',\n",
    "                     t_type='ukdale',\n",
    "                     transform=transform,\n",
    "                     download=False,\n",
    "                     seq_len = 100)"
   ]
  }
 ],
 "metadata": {
  "kernelspec": {
   "display_name": "venv",
   "language": "python",
   "name": "python3"
  },
  "language_info": {
   "codemirror_mode": {
    "name": "ipython",
    "version": 3
   },
   "file_extension": ".py",
   "mimetype": "text/x-python",
   "name": "python",
   "nbconvert_exporter": "python",
   "pygments_lexer": "ipython3",
   "version": "3.8.10"
  },
  "orig_nbformat": 4
 },
 "nbformat": 4,
 "nbformat_minor": 2
}
