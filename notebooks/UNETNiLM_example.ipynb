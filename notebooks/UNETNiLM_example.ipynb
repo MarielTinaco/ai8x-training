{
 "cells": [
  {
   "cell_type": "code",
   "execution_count": 1,
   "metadata": {},
   "outputs": [],
   "source": [
    "###################################################################################################\n",
    "#\n",
    "# Copyright (C) 2023 Maxim Integrated Products, Inc. All Rights Reserved.\n",
    "#\n",
    "# Maxim Integrated Products, Inc. Default Copyright Notice:\n",
    "# https://www.maximintegrated.com/en/aboutus/legal/copyrights.html\n",
    "#\n",
    "###################################################################################################\n",
    "\n",
    "import os\n",
    "import sys\n",
    "\n",
    "import importlib\n",
    "import numpy as np\n",
    "import torch\n",
    "\n",
    "import matplotlib.patches as patches\n",
    "import matplotlib.pyplot as plt\n",
    "\n",
    "sys.path.append(os.path.dirname(os.getcwd()))\n",
    "sys.path.append(os.path.join(os.path.dirname(os.getcwd()), 'models'))\n",
    "\n",
    "import ai8x\n",
    "\n",
    "from datasets import nilm"
   ]
  },
  {
   "cell_type": "code",
   "execution_count": 2,
   "metadata": {},
   "outputs": [],
   "source": [
    "from pathlib import Path"
   ]
  },
  {
   "cell_type": "code",
   "execution_count": 3,
   "metadata": {},
   "outputs": [],
   "source": [
    "data_path = Path('../data/NILM')\n",
    "args = None\n",
    "# data_path.exists()\n",
    "\n",
    "train_set, test_set = nilm.ukdale_get_datasets((data_path, args), load_train=True, load_test=True)"
   ]
  },
  {
   "cell_type": "code",
   "execution_count": 4,
   "metadata": {},
   "outputs": [],
   "source": [
    "batch_size = 32\n",
    "num_workers = 5"
   ]
  },
  {
   "cell_type": "code",
   "execution_count": 5,
   "metadata": {},
   "outputs": [],
   "source": [
    "dataloader = torch.utils.data.DataLoader(train_set, batch_size=batch_size, shuffle=False, pin_memory=True, num_workers=num_workers)"
   ]
  },
  {
   "cell_type": "code",
   "execution_count": 6,
   "metadata": {},
   "outputs": [],
   "source": [
    "loaded_data = [batch for batch in dataloader]"
   ]
  },
  {
   "cell_type": "code",
   "execution_count": 7,
   "metadata": {},
   "outputs": [],
   "source": [
    "batch_0 = loaded_data[0]"
   ]
  },
  {
   "cell_type": "code",
   "execution_count": 8,
   "metadata": {},
   "outputs": [],
   "source": [
    "mod = importlib.import_module(\"ai87net-unetnilm\")"
   ]
  },
  {
   "cell_type": "code",
   "execution_count": 9,
   "metadata": {},
   "outputs": [
    {
     "name": "stdout",
     "output_type": "stream",
     "text": [
      "Working with device: cuda\n",
      "Configuring device: MAX78000, simulate=True.\n"
     ]
    }
   ],
   "source": [
    "device = torch.device('cuda' if torch.cuda.is_available() else 'cpu')\n",
    "print(\"Working with device:\", device)\n",
    "\n",
    "ai8x.set_device(device=85, simulate=True, round_avg=False)\n",
    "qat_policy = {'start_epoch': 10, 'weight_bits': 8, 'bias_bits': 8}"
   ]
  },
  {
   "cell_type": "code",
   "execution_count": 18,
   "metadata": {},
   "outputs": [],
   "source": [
    "from torch import nn"
   ]
  },
  {
   "cell_type": "code",
   "execution_count": 19,
   "metadata": {},
   "outputs": [],
   "source": [
    "in_size = 1\n",
    "output_size = 5\n",
    "n_layers = 5\n",
    "features_start = 16"
   ]
  },
  {
   "cell_type": "code",
   "execution_count": 23,
   "metadata": {},
   "outputs": [],
   "source": [
    "class Conv1D(nn.Module):\n",
    "    \n",
    "    def __init__(self,\n",
    "                 num_channels,\n",
    "                 num_kernels,\n",
    "                 kernel_size=3,\n",
    "                 stride=2,\n",
    "                 padding=1,\n",
    "                 last=False,\n",
    "                 activation=\"ReLU\",\n",
    "                 batchnorm=\"NoAffine\",\n",
    "                 **kwargs):\n",
    "        super(Conv1D, self).__init__()\n",
    "        \n",
    "        if not last:\n",
    "            if activation == \"ReLU\":\n",
    "                self.net = ai8x.FusedConv1dBNReLU(in_channels=num_channels,\n",
    "                                                  out_channels=num_kernels,\n",
    "                                                  kernel_size=kernel_size,\n",
    "                                                  stride=stride,\n",
    "                                                  padding=padding,\n",
    "                                                  bias=True,\n",
    "                                                  batchnorm=\"NoAffine\",\n",
    "                                                  **kwargs)\n",
    "            elif activation == \"Abs\":\n",
    "                self.net = ai8x.FusedConv1dBNAbs(in_channels=num_channels,\n",
    "                                                  out_channels=num_kernels,\n",
    "                                                  kernel_size=kernel_size,\n",
    "                                                  stride=stride,\n",
    "                                                  padding=padding,\n",
    "                                                  bias=True,\n",
    "                                                  batchnorm=\"NoAffine\",\n",
    "                                                  **kwargs)\n",
    "            else:\n",
    "                self.net = ai8x.Conv1d(\n",
    "                    in_channels=num_channels,\n",
    "                    out_channels=num_kernels,\n",
    "                    kernel_size=kernel_size,\n",
    "                    stride=stride,\n",
    "                    padding=padding,\n",
    "                    batchnorm=batchnorm,\n",
    "                    **kwargs\n",
    "                )\n",
    "        else:\n",
    "            self.net = ai8x.Conv1d(\n",
    "                in_channels=num_channels,\n",
    "                out_channels=num_kernels,\n",
    "                kernel_size=kernel_size,\n",
    "                stride=stride,\n",
    "                padding=padding,\n",
    "                batchnorm=batchnorm,\n",
    "                **kwargs\n",
    "            )\n",
    "        nn.utils.weight_norm(self.net.op)    \n",
    "        nn.init.xavier_uniform_(self.net.op.weight)\n",
    "                \n",
    "    def forward(self, x):\n",
    "        return self.net(x)\n",
    "\n",
    "class UNetCNN1D(nn.Module):\n",
    "    \n",
    "    def __init__(\n",
    "            self, \n",
    "            num_classes: int = 5,\n",
    "            num_channels: int = 1,\n",
    "            **kwargs\n",
    "    ):\n",
    "        super().__init__()\n",
    "\n",
    "        self.prep0 = Conv1D(num_channels=num_channels, num_kernels=64, kernel_size=1,\n",
    "                            stride=1, padding=0, activation=\"ReLU\", batchnorm=\"NoAffine\", last=False, **kwargs)\n",
    "        \n",
    "    def forward(self, x):\n",
    "        x = self.prep0(x)\n",
    "        return x\n"
   ]
  },
  {
   "cell_type": "code",
   "execution_count": 24,
   "metadata": {},
   "outputs": [],
   "source": [
    "class AI85UNetNILM(nn.Module):\n",
    "    \"\"\"\n",
    "    Large size UNet model. This model also enables the use of folded data.\n",
    "    \"\"\"\n",
    "    def __init__(\n",
    "            self,\n",
    "            num_classes=4,         # in_size\n",
    "            num_channels=48,        #\n",
    "            # dimensions=(88, 88),  # pylint: disable=unused-argument\n",
    "            **kwargs\n",
    "    ):\n",
    "        super().__init__()\n",
    "\n",
    "        self.unet = UNetCNN1D(num_classes=num_classes,\n",
    "                              num_channels=num_channels)\n",
    "        self.dropout = nn.Dropout(0.1)\n",
    "\n",
    "    def forward(self, x):  # pylint: disable=arguments-differ\n",
    "        \"\"\"Forward prop\"\"\"\n",
    "        # Run CNN\n",
    "        B = x.size(0)\n",
    "        x = x.permute(0,2,1)\n",
    "\n",
    "        x = self.dropout(self.unet(x))\n",
    "\n",
    "        return x\n"
   ]
  },
  {
   "cell_type": "code",
   "execution_count": 25,
   "metadata": {},
   "outputs": [
    {
     "data": {
      "text/plain": [
       "tensor([[[0., 0., 0.,  ..., 0., 0., 0.],\n",
       "         [0., 0., 0.,  ..., 0., 0., 0.],\n",
       "         [0., 0., 0.,  ..., 0., 0., 0.],\n",
       "         ...,\n",
       "         [0., 0., 0.,  ..., 0., 0., 0.],\n",
       "         [0., 0., 0.,  ..., 0., 0., 0.],\n",
       "         [0., 0., 0.,  ..., 0., 0., 0.]],\n",
       "\n",
       "        [[0., 0., 0.,  ..., 0., 0., 0.],\n",
       "         [0., 0., 0.,  ..., 0., 0., 0.],\n",
       "         [0., 0., 0.,  ..., 0., 0., 0.],\n",
       "         ...,\n",
       "         [0., 0., 0.,  ..., 0., 0., 0.],\n",
       "         [0., 0., 0.,  ..., 0., 0., 0.],\n",
       "         [0., 0., 0.,  ..., 0., 0., 0.]],\n",
       "\n",
       "        [[0., 0., 0.,  ..., 0., 0., 0.],\n",
       "         [0., 0., 0.,  ..., 0., 0., 0.],\n",
       "         [0., 0., 0.,  ..., 0., 0., 0.],\n",
       "         ...,\n",
       "         [0., 0., 0.,  ..., 0., 0., 0.],\n",
       "         [0., 0., 0.,  ..., 0., 0., 0.],\n",
       "         [0., 0., 0.,  ..., 0., 0., 0.]],\n",
       "\n",
       "        ...,\n",
       "\n",
       "        [[0., 0., 0.,  ..., 0., 0., 0.],\n",
       "         [0., 0., 0.,  ..., 0., 0., 0.],\n",
       "         [0., 0., 0.,  ..., 0., 0., 0.],\n",
       "         ...,\n",
       "         [0., 0., 0.,  ..., 0., 0., 0.],\n",
       "         [0., 0., 0.,  ..., 0., 0., 0.],\n",
       "         [0., 0., 0.,  ..., 0., 0., 0.]],\n",
       "\n",
       "        [[0., 0., 0.,  ..., 0., 0., 0.],\n",
       "         [0., 0., 0.,  ..., 0., 0., 0.],\n",
       "         [0., 0., 0.,  ..., 0., 0., 0.],\n",
       "         ...,\n",
       "         [0., 0., 0.,  ..., 0., 0., 0.],\n",
       "         [0., 0., 0.,  ..., 0., 0., 0.],\n",
       "         [0., 0., 0.,  ..., 0., 0., 0.]],\n",
       "\n",
       "        [[0., 0., 0.,  ..., 0., 0., 0.],\n",
       "         [0., 0., 0.,  ..., 0., 0., 0.],\n",
       "         [0., 0., 0.,  ..., 0., 0., 0.],\n",
       "         ...,\n",
       "         [0., 0., 0.,  ..., 0., 0., 0.],\n",
       "         [0., 0., 0.,  ..., 0., 0., 0.],\n",
       "         [0., 0., 0.,  ..., 0., 0., 0.]]], grad_fn=<MulBackward0>)"
      ]
     },
     "execution_count": 25,
     "metadata": {},
     "output_type": "execute_result"
    }
   ],
   "source": [
    "model = AI85UNetNILM(num_channels=in_size,\n",
    "                     num_classes=output_size)\n",
    "# model = mod.AI85UNetNILM(num_classes=output_size, num_channels=in_size)\n",
    "\n",
    "model(batch_0[0])"
   ]
  },
  {
   "cell_type": "code",
   "execution_count": null,
   "metadata": {},
   "outputs": [],
   "source": []
  }
 ],
 "metadata": {
  "kernelspec": {
   "display_name": "venv",
   "language": "python",
   "name": "python3"
  },
  "language_info": {
   "codemirror_mode": {
    "name": "ipython",
    "version": 3
   },
   "file_extension": ".py",
   "mimetype": "text/x-python",
   "name": "python",
   "nbconvert_exporter": "python",
   "pygments_lexer": "ipython3",
   "version": "3.8.10"
  },
  "orig_nbformat": 4
 },
 "nbformat": 4,
 "nbformat_minor": 2
}
