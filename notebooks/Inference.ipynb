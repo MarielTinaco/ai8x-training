{
 "cells": [
  {
   "attachments": {},
   "cell_type": "markdown",
   "metadata": {},
   "source": [
    "# Transfer Learning - INFERENCE\n",
    "\n",
    "## Load Libraries\n",
    "\n"
   ]
  },
  {
   "cell_type": "code",
   "execution_count": null,
   "metadata": {},
   "outputs": [],
   "source": [
    "import importlib\n",
    "import sys\n",
    "import os\n",
    "import numpy as np\n",
    "import time\n",
    "from pathlib import Path\n",
    "import matplotlib.pyplot as plt\n",
    "from sklearn.metrics import confusion_matrix\n",
    "import librosa\n",
    "\n",
    "import torch\n",
    "from torch import nn\n",
    "import torch.optim as optim\n",
    "\n",
    "from torch.utils import data\n",
    "from torchvision import transforms\n",
    "\n",
    "sys.path.append(os.path.join(os.getcwd(), \"..\"))\n",
    "\n",
    "from distiller import apputils\n",
    "import ai8x\n",
    "\n",
    "from torch.utils.tensorboard import SummaryWriter\n",
    "writer = SummaryWriter()\n",
    "\n",
    "kws20 = importlib.import_module(\"datasets.kws20-horsecough\")\n",
    "\n",
    "import matplotlib.pyplot as plt\n",
    "from sklearn.metrics import confusion_matrix,multilabel_confusion_matrix"
   ]
  },
  {
   "attachments": {},
   "cell_type": "markdown",
   "metadata": {},
   "source": [
    "## PREPARE MODEL FOR EVALUATION MODE"
   ]
  },
  {
   "cell_type": "code",
   "execution_count": null,
   "metadata": {},
   "outputs": [],
   "source": [
    "def count_params(model):\n",
    "    model_parameters = filter(lambda p: p.requires_grad, model.parameters())\n",
    "    params = sum([np.prod(p.size()) for p in model_parameters])\n",
    "    print(params)\n",
    "    return params\n",
    "\n",
    "ai8x.set_device(device=85, simulate=False, round_avg=False)\n",
    "\n",
    "\n",
    "# WEIGHTS OF TRAINED MODEL\n",
    "\n",
    "# checkpoint_dir = \"../logs/kws20_original/qat_best.pth.tar\"\n",
    "# mod = importlib.import_module(\"models.ai85net-kws20-v3\")\n",
    "# model = mod.AI85KWS20Netv3(num_classes=21, num_channels=128, dimensions=(128, 1), bias=False)\n",
    "\n",
    "checkpoint_dir = \"../notebooks/checkpoints/human_others_2/qat_human_others_2_best.pth.tar\"\n",
    "mod = importlib.import_module(\"models.ai85net-equine-binary\")\n",
    "model = mod.AI85KWS20Netv3(num_classes=2, num_channels=128, dimensions=(128, 1), bias=False)\n",
    "\n",
    "model, compression_scheduler, optimizer, start_epoch = apputils.load_checkpoint(\n",
    "            model, checkpoint_dir)\n",
    "\n",
    "\n",
    "\n",
    "device = torch.device('cuda:0' if torch.cuda.is_available() else 'cpu')\n",
    "print('Running on device: {}'.format(device))\n",
    "\n",
    "model = model.to(device)\n",
    "\n",
    "num_epochs = 1000\n",
    "\n",
    "qat_policy = {\n",
    "    'start_epoch': int(num_epochs/5),\n",
    "    'weight_bits': 8\n",
    "    }\n",
    "\n",
    "# Fuse the BN parameters into conv layers before Quantization Aware Training (QAT)\n",
    "ai8x.fuse_bn_layers(model)\n",
    "# Switch model from unquantized to quantized for QAT\n",
    "ai8x.initiate_qat(model, qat_policy)\n",
    "# Model is re-transferred to GPU in case parameters were added\n",
    "model.to(device)"
   ]
  },
  {
   "attachments": {},
   "cell_type": "markdown",
   "metadata": {},
   "source": [
    "## PREPARE DATA FOR INFERENCE"
   ]
  },
  {
   "cell_type": "code",
   "execution_count": null,
   "metadata": {},
   "outputs": [],
   "source": [
    "def rescale(audio, min_val=-1,max_val=1):\n",
    "            sig = audio\n",
    "            mean = np.average(sig)\n",
    "\n",
    "            sig = sig-mean # REMOVE DC COMPONENT\n",
    "\n",
    "            sig_max = np.max(sig)\n",
    "            sig_min = np.min(sig)\n",
    "\n",
    "            if sig_max >= np.abs(sig_min):\n",
    "                sig_scaled = sig/sig_max\n",
    "            else:\n",
    "                sig_scaled = sig/np.abs(sig_min)\n",
    "\n",
    "            return sig_scaled"
   ]
  },
  {
   "cell_type": "code",
   "execution_count": null,
   "metadata": {},
   "outputs": [],
   "source": [
    "class_paths = {'combined': \"../data/KWS_EQUINE/raw/combined/\",\n",
    "              'human_cough': \"C:/Users/J_C/Desktop/DATASETS_N/human_cough_v3/\",\n",
    "                # 'human_cough': \"../data/KWS_EQUINE/raw/human_cough/\",\n",
    "               'combined_kws': \"../data/KWS_EQUINE/raw/__combinedkws/\",\n",
    "               'horse_cough': \"../data/KWS_EQUINE/inference/horse_cough/\"\n",
    "}\n",
    "\n",
    "y_true_train = []\n",
    "y_pred_train = []\n",
    "\n",
    "classes = list(class_paths.keys())\n",
    "time_start = time.time()\n",
    "with torch.no_grad():\n",
    "    for class_ix,inf_path in enumerate(list(class_paths.values())):\n",
    "        files = os.listdir(inf_path)\n",
    "        file_count = len(files)\n",
    "        inferences = []\n",
    "        for counter,f in enumerate(files):\n",
    "            try:\n",
    "                print('Class: ',class_ix,'  Remaining: ',(file_count-counter))\n",
    "\n",
    "                # CONVERT EACH AUDIO FILE TO A 128X128 ARRAY\n",
    "                data_sq = np.zeros(128)\n",
    "                data,sr = librosa.load(inf_path+f,sr = 16000)\n",
    "                data = rescale(audio=data)\n",
    "                data = librosa.util.fix_length(data,size=int(128*128))\n",
    "                for index in range(0,len(data),128):\n",
    "                    data_row = data[index:index+128]\n",
    "                    data_sq = np.vstack((data_sq,data_row))\n",
    "                data_sq = data_sq[1:129]\n",
    "                data_sq = np.asarray(data_sq).astype(np.float32)\n",
    "                data_sq = data_sq.transpose()\n",
    "                \n",
    "                # CONVERT ARRAY TO TENSOR\n",
    "                data_sq = np.expand_dims(data_sq, axis=0)\n",
    "                inputs = torch.from_numpy(data_sq)  \n",
    "                \n",
    "                ############ INFERENCE SECTION ############\n",
    "                model.eval()\n",
    "                inputs = inputs.to(device)\n",
    "                model_out = model.forward(inputs)\n",
    "                target_out = torch.argmax(model_out, dim=1)\n",
    "                class_output = target_out.detach().item()\n",
    "\n",
    "                # For KWS words\n",
    "                if class_ix == 2 and class_output == 0: class_output = class_ix\n",
    "                elif class_ix == 2 and class_output == 1: class_output = 3\n",
    "\n",
    "                # For Horse Cough\n",
    "                if class_ix == 3 and class_output == 1: class_output = class_ix\n",
    "                elif class_ix == 3 and class_output == 0: class_output = 2\n",
    "\n",
    "                \n",
    "                y_true_train.append(class_ix)\n",
    "                y_pred_train.append(class_output)\n",
    "            except Exception as e:\n",
    "                print(e)\n",
    "\n",
    "     #print('\\t\\t Test Acc: {:.2f}'.format(total_acc))\n",
    "   \n",
    "\n",
    "time_end = time.time()\n",
    "\n",
    "print('Inference Finished in {:2f} seconds'.format(time_end-time_start))"
   ]
  },
  {
   "cell_type": "code",
   "execution_count": null,
   "metadata": {},
   "outputs": [],
   "source": [
    "def plot_confusion(y_true, y_pred, classes):\n",
    "    cf_matrix = confusion_matrix(y_true = y_true, y_pred = y_pred, labels =list(range(len(classes))))\n",
    "    print(cf_matrix)\n",
    "    \n",
    "print (np.shape(y_true_train))\n",
    "print (np.shape(y_pred_train))\n",
    "print(\"\\n Inference - Confusion Matrix: \")\n",
    "plot_confusion(y_true_train, y_pred_train, classes)"
   ]
  },
  {
   "attachments": {},
   "cell_type": "markdown",
   "metadata": {},
   "source": [
    "## PLOT ROC"
   ]
  },
  {
   "cell_type": "code",
   "execution_count": 1,
   "metadata": {},
   "outputs": [
    {
     "name": "stdout",
     "output_type": "stream",
     "text": [
      "model 2 AUC score: 0.9\n"
     ]
    },
    {
     "data": {
      "image/png": "[encoded data removed]",
      "text/plain": [
       "<Figure size 640x480 with 1 Axes>"
      ]
     },
     "metadata": {},
     "output_type": "display_data"
    }
   ],
   "source": [
    "import numpy as np\n",
    "import matplotlib.pyplot as plt\n",
    "\n",
    "from sklearn.metrics import accuracy_score, confusion_matrix, roc_auc_score, roc_curve\n",
    "\n",
    "def plot_roc_curve(true_y, y_prob):\n",
    "    \"\"\"\n",
    "    plots the roc curve based of the probabilities\n",
    "    \"\"\"\n",
    "    \n",
    "    fpr, tpr, thresholds = roc_curve(true_y, y_prob)\n",
    "    plt.plot(fpr, tpr)\n",
    "    plt.plot([0,1], [0,1], 'r--')\n",
    "    plt.xlabel('False Positive Rate')\n",
    "    plt.ylabel('True Positive Rate')\n",
    "\n",
    "\n",
    "classes = ['combined','cough']\n",
    "y_true_train = [1, 1, 1 ,1 ,1 ,0]\n",
    "y_pred_train = [1, 1, 1 ,1 ,0 ,0]\n",
    "\n",
    "plot_roc_curve(y_true_train, y_pred_train)\n",
    "print(f'model 2 AUC score: {roc_auc_score(y_true_train, y_pred_train)}')\n",
    "\n",
    "plt.title('AUC: {:2f}'.format(roc_auc_score(y_true_train, y_pred_train)))\n",
    "plt.savefig('roc.png')"
   ]
  },
  {
   "cell_type": "code",
   "execution_count": null,
   "metadata": {},
   "outputs": [],
   "source": [
    "import numpy as np\n",
    "from sklearn.metrics import confusion_matrix, ConfusionMatrixDisplay, precision_recall_fscore_support,PrecisionRecallDisplay\n",
    "import matplotlib.pyplot as plt\n",
    "\n",
    "classes = ['combined','cough']\n",
    "actual = [1, 1, 1 ,1 ,1 ,0]\n",
    "predicted = [1, 1, 1 ,1 ,0 ,0]\n",
    "\n",
    "conf_mat_train = confusion_matrix(actual, predicted)\n",
    "cm_display = ConfusionMatrixDisplay(confusion_matrix = conf_mat_train, display_labels = classes)\n",
    "precision,recall,f1score,_= precision_recall_fscore_support(actual, predicted, average=None)\n",
    "\n",
    "precision = np.round(precision,2)\n",
    "recall = np.round(recall,2)\n",
    "f1score = np.round(f1score,2)\n",
    "\n",
    "plt.figure(1, layout = 'tight')\n",
    "stats = 'Precison: ' + str(precision) + '  Recall: ' + str(recall) + '  F1-Score: ' + str(f1score) + '\\n'\n",
    "cm_display.plot(cmap= 'Blues',colorbar=False)\n",
    "plt.title(stats)\n",
    "plt.savefig('conf_mat_test.png')\n"
   ]
  },
  {
   "cell_type": "code",
   "execution_count": null,
   "metadata": {},
   "outputs": [],
   "source": [
    "import numpy\n",
    "from sklearn.metrics import confusion_matrix, ConfusionMatrixDisplay, precision_recall_fscore_support,PrecisionRecallDisplay\n",
    "import matplotlib.pyplot as plt\n",
    "from itertools import cycle\n",
    "\n",
    "colors = cycle([\"navy\", \"turquoise\", \"darkorange\", \"cornflowerblue\", \"teal\"])\n",
    "classes = ['combined','cough']\n",
    "actual = [1, 1, 1 ,1 ,1 ,0]\n",
    "predicted = [1, 1, 1 ,1 ,0 ,0]\n",
    "\n",
    "\n",
    "precision = dict()\n",
    "recall = dict()\n",
    "average_precision = dict()\n",
    "\n",
    "_, ax = plt.subplots(figsize=(7, 8))\n",
    "\n",
    "display = PrecisionRecallDisplay(\n",
    "    recall=recall[\"micro\"],\n",
    "    precision=precision[\"micro\"],\n",
    "    average_precision=average_precision[\"micro\"],\n",
    ")\n",
    "display.plot(ax=ax, name=\"Micro-average precision-recall\", color=\"gold\")\n",
    "\n",
    "for i, color in zip(range(len(classes)), colors):\n",
    "    display = PrecisionRecallDisplay(\n",
    "        recall=recall[i],\n",
    "        precision=precision[i],\n",
    "        average_precision=average_precision[i],\n",
    "    )\n",
    "    display.plot(ax=ax, name=f\"Precision-recall for class {i}\", color=color)\n",
    "\n"
   ]
  }
 ],
 "metadata": {
  "kernelspec": {
   "display_name": "Python 3",
   "language": "python",
   "name": "python3"
  },
  "language_info": {
   "codemirror_mode": {
    "name": "ipython",
    "version": 3
   },
   "file_extension": ".py",
   "mimetype": "text/x-python",
   "name": "python",
   "nbconvert_exporter": "python",
   "pygments_lexer": "ipython3",
   "version": "3.10.9"
  },
  "orig_nbformat": 4,
  "vscode": {
   "interpreter": {
    "hash": "ec35e5d0984cc59eb0cd6a0be286daf2d556405b3fb6375200d13e76db69dcf1"
   }
  }
 },
 "nbformat": 4,
 "nbformat_minor": 2
}
